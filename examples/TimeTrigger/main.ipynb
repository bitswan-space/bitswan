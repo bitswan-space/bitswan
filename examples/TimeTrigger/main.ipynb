{
  "cells": [
    {
      "cell_type": "markdown",
      "metadata": {},
      "source": [
        "# TimeTrigger Example (CronTrigger)\n",
        "\n",
        "A minimal example showing how to schedule work on a cron-like cadence using `CronTrigger`.\n",
        "\n",
        "Why it's useful:\n",
        "- Scheduling via crontab strings (e.g., \"every minute\", \"2 PM on Mondays\").\n",
        "- Runs inside BitSwan's event loop; no external scheduler needed.\n",
        "- Great for periodic tasks like reminders, heartbeats, or maintenance jobs.\n"
      ]
    },
    {
      "cell_type": "markdown",
      "metadata": {},
      "source": [
        "----------------\n",
        "### Imports\n",
        "\n",
        "We import BitSwan helpers for notebook pipelines and the HTTP bits. We will also import `CronTrigger` to schedule an action every minute.\n"
      ]
    },
    {
      "cell_type": "code",
      "execution_count": null,
      "metadata": {},
      "outputs": [],
      "source": [
        "from bspump.jupyter import *\n",
        "from bspump.abc.source import TriggerSource\n",
        "from bspump.trigger.crontrig import CronTrigger\n",
        "from bspump.common.print import PPrintSink\n",
        "from datetime import datetime, timezone"
      ]
    },
    {
      "cell_type": "markdown",
      "metadata": {},
      "source": [
        "-----------------------\n",
        "### HeartbeatSource\n",
        " \n",
        "The `HeartbeatSource` is a custom trigger source that generates time-based events. It's designed to work with the `CronTrigger` to periodically inject timestamp data into the pipeline, allowing us to demonstrate scheduled processing and time-triggered workflows."
      ]
    },
    {
      "cell_type": "code",
      "execution_count": null,
      "metadata": {},
      "outputs": [],
      "source": [
        "class HeartbeatSource(TriggerSource):\n",
        "    async def cycle(self, *args, **kwargs):\n",
        "        await self.Pipeline.ready()\n",
        "        await self.Pipeline.process({\n",
        "            \"time_triggered\": datetime.now(timezone.utc).isoformat()\n",
        "        })\n",
        "          globals().setdefault(\"HEARTBEATS\", []).append({\"time_triggered\": datetime.now().isoformat()})"
      ]
    },
    {
      "cell_type": "markdown",
      "metadata": {},
      "source": [
        "-------------------\n",
        "### Auto-pipeline and CronTrigger explained\n",
        "\n",
        "We wire `HeartbeatSource` to `PPrintSink`, and attach a `CronTrigger` so the source is fired on a schedule.\n",
        "\n",
        "Cron expressions have 5 fields: `minute hour day-of-month month day-of-week`\n",
        "- `* * * * *`  every minute\n",
        "- `*/10 * * * *`  every 10 minutes\n",
        "- `0 14 * * 1`  every Monday at 14:00 (2 PM)\n",
        "- `30 9-17 * * 1-5`  at minute 30 past each hour 9..17 on weekdays\n",
        "\n",
        "Notes\n",
        "- Warning: if you rely on local/naive time, verify the runner’s clock/timezone so schedules match your intent.\n",
        "- CronTrigger fires when the cron expression is due. `.on(trigger)` attaches it to `HeartbeatSource`, which runs `cycle()` to emit an event.\n",
        "- The app ticks ~once per second; CronTrigger evaluates on each tick but fires only when due.\n"
      ]
    },
    {
      "cell_type": "code",
      "execution_count": null,
      "metadata": {},
      "outputs": [],
      "source": [
        "from datetime import datetime, timezone\n",
        "\n",
        "auto_pipeline(\n",
        "    source=lambda app, pipeline: HeartbeatSource(app, pipeline).on(\n",
        "        CronTrigger(app, \"* * * * *\", init_time=datetime.now()) # Every minute\n",
        "    ),\n",
        "    sink=lambda app, pipeline: PPrintSink(app, pipeline),\n",
        "    name=\"TimeTriggerPipeline\"\n",
        ")"
      ]
    }
  ],
  "metadata": {
    "language_info": {
      "name": "python"
    }
  },
  "nbformat": 4,
  "nbformat_minor": 2
}
